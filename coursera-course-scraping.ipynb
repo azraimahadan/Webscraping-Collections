{
 "cells": [
  {
   "cell_type": "markdown",
   "id": "b77d6a76",
   "metadata": {
    "papermill": {
     "duration": 0.006333,
     "end_time": "2024-01-23T02:01:50.804696",
     "exception": false,
     "start_time": "2024-01-23T02:01:50.798363",
     "status": "completed"
    },
    "tags": []
   },
   "source": [
    "\n",
    "![Coursera](data:image/svg+xml;base64,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)\n",
    "\n",
    "The goal of this notebook is to scrape available courses info from [Coursera](https://www.coursera.org/courses). In my use case, I want to extract available skills that can be obtained after taking each course. However, more information actually can be extracted from Coursera website. The idea and code of this notebook are based on the [Siddharth1698](https://github.com/Siddharth1698/Coursera-Course-Dataset)'s  Github and modified accordingly.<br />\n",
    "If you have looked at my other [WebScraping notebook](https://www.kaggle.com/code/azraimohamad/jobstreet-job-scraping), here we are **unlucky** because Coursera does not provide any usable API hence, we need to work a bit with our *Python* skill to get our job done."
   ]
  },
  {
   "cell_type": "markdown",
   "id": "ae30f545",
   "metadata": {
    "papermill": {
     "duration": 0.005383,
     "end_time": "2024-01-23T02:01:50.816547",
     "exception": false,
     "start_time": "2024-01-23T02:01:50.811164",
     "status": "completed"
    },
    "tags": []
   },
   "source": [
    "## Importing libraries"
   ]
  },
  {
   "cell_type": "code",
   "execution_count": 1,
   "id": "81e6f220",
   "metadata": {
    "_cell_guid": "b1076dfc-b9ad-4769-8c92-a6c4dae69d19",
    "_uuid": "8f2839f25d086af736a60e9eeb907d3b93b6e0e5",
    "execution": {
     "iopub.execute_input": "2024-01-23T02:01:50.829602Z",
     "iopub.status.busy": "2024-01-23T02:01:50.829071Z",
     "iopub.status.idle": "2024-01-23T02:01:51.546474Z",
     "shell.execute_reply": "2024-01-23T02:01:51.545309Z"
    },
    "papermill": {
     "duration": 0.727337,
     "end_time": "2024-01-23T02:01:51.549419",
     "exception": false,
     "start_time": "2024-01-23T02:01:50.822082",
     "status": "completed"
    },
    "tags": []
   },
   "outputs": [],
   "source": [
    "#Author:Azrai#\n",
    "######################\n",
    "from bs4 import BeautifulSoup\n",
    "import requests\n",
    "import pandas as pd"
   ]
  },
  {
   "cell_type": "markdown",
   "id": "6acc07b2",
   "metadata": {
    "papermill": {
     "duration": 0.005306,
     "end_time": "2024-01-23T02:01:51.560716",
     "exception": false,
     "start_time": "2024-01-23T02:01:51.555410",
     "status": "completed"
    },
    "tags": []
   },
   "source": [
    "## Define scraping funtion"
   ]
  },
  {
   "cell_type": "code",
   "execution_count": 2,
   "id": "0fe8d5ab",
   "metadata": {
    "execution": {
     "iopub.execute_input": "2024-01-23T02:01:51.574695Z",
     "iopub.status.busy": "2024-01-23T02:01:51.573272Z",
     "iopub.status.idle": "2024-01-23T02:01:51.585699Z",
     "shell.execute_reply": "2024-01-23T02:01:51.584631Z"
    },
    "papermill": {
     "duration": 0.02195,
     "end_time": "2024-01-23T02:01:51.588228",
     "exception": false,
     "start_time": "2024-01-23T02:01:51.566278",
     "status": "completed"
    },
    "tags": []
   },
   "outputs": [],
   "source": [
    "def auto_Scrapper_Class(html_tag,course_case,tag_class, div_class=None):\n",
    "    \"\"\"\n",
    "    The function auto_Scrapper_Class is used to get three parameters that is the tag,what to scrap and get the content scrapped and class it belongs. \n",
    "    \"\"\"\n",
    "    for i in range(1,50): # adjust as needed, according to current coursera website, there are 83 pages for all courses\n",
    "        url = \"https://www.coursera.org/courses?page=\" +str(i)\n",
    "        \n",
    "        #Use below url to gain more customization on the result with different query\n",
    "        #url = \"https://www.coursera.org/search?query=data%20science&page=\" +str(i)\n",
    "        \n",
    "        page = requests.get(url)\n",
    "        soup = BeautifulSoup(page.content, 'html.parser')\n",
    "\n",
    "        if div_class:\n",
    "            elements = soup.find_all('div',  class_ = div_class)\n",
    "\n",
    "            if (len(elements)) != 12:  \n",
    "                for j in range(0,12):    # There are 12 courses per page\n",
    "                    course_case.append(None)\n",
    "                continue\n",
    "            for name in elements:\n",
    "                x = name.get_text()\n",
    "                if x:\n",
    "                    course_case.append(x)\n",
    "                else:\n",
    "                    course_case.append(None)\n",
    "\n",
    "        else:\n",
    "            element = soup.find_all(html_tag,  class_ = tag_class)\n",
    "            if (len(element)) != 12:\n",
    "                for j in range(0,12):\n",
    "                    course_case.append(None)\n",
    "                continue\n",
    "\n",
    "            for name in element:\n",
    "                x = name.get_text()\n",
    "                if x:\n",
    "                    course_case.append(x)\n",
    "                else:\n",
    "                    course_case.append(\"\")\n"
   ]
  },
  {
   "cell_type": "code",
   "execution_count": 3,
   "id": "f625be52",
   "metadata": {
    "execution": {
     "iopub.execute_input": "2024-01-23T02:01:51.601477Z",
     "iopub.status.busy": "2024-01-23T02:01:51.601044Z",
     "iopub.status.idle": "2024-01-23T02:01:51.606581Z",
     "shell.execute_reply": "2024-01-23T02:01:51.605658Z"
    },
    "papermill": {
     "duration": 0.01475,
     "end_time": "2024-01-23T02:01:51.608698",
     "exception": false,
     "start_time": "2024-01-23T02:01:51.593948",
     "status": "completed"
    },
    "tags": []
   },
   "outputs": [],
   "source": [
    "course_title = []\n",
    "course_organization = []\n",
    "course_Certificate_type = []\n",
    "course_rating = []\n",
    "course_difficulty = []\n",
    "course_review_counts = []\n",
    "course_skills = []"
   ]
  },
  {
   "cell_type": "code",
   "execution_count": 4,
   "id": "adfd7d23",
   "metadata": {
    "execution": {
     "iopub.execute_input": "2024-01-23T02:01:51.622245Z",
     "iopub.status.busy": "2024-01-23T02:01:51.621789Z",
     "iopub.status.idle": "2024-01-23T02:02:52.471828Z",
     "shell.execute_reply": "2024-01-23T02:02:52.470813Z"
    },
    "papermill": {
     "duration": 60.860027,
     "end_time": "2024-01-23T02:02:52.474585",
     "exception": false,
     "start_time": "2024-01-23T02:01:51.614558",
     "status": "completed"
    },
    "tags": []
   },
   "outputs": [],
   "source": [
    "#scrap the course title\n",
    "auto_Scrapper_Class('h3',course_title, tag_class='cds-119 cds-CommonCard-title css-e7lgfl cds-121')"
   ]
  },
  {
   "cell_type": "code",
   "execution_count": 5,
   "id": "3bd0a453",
   "metadata": {
    "execution": {
     "iopub.execute_input": "2024-01-23T02:02:52.488370Z",
     "iopub.status.busy": "2024-01-23T02:02:52.487937Z",
     "iopub.status.idle": "2024-01-23T02:07:14.077338Z",
     "shell.execute_reply": "2024-01-23T02:07:14.075802Z"
    },
    "papermill": {
     "duration": 261.600128,
     "end_time": "2024-01-23T02:07:14.080854",
     "exception": false,
     "start_time": "2024-01-23T02:02:52.480726",
     "status": "completed"
    },
    "tags": []
   },
   "outputs": [],
   "source": [
    "#scrap the other information as per coursera's website html\n",
    "auto_Scrapper_Class('p',course_organization,'cds-119 cds-ProductCard-partnerNames css-dmxkm1 cds-121')\n",
    "#auto_Scrapper_Class('div',course_Certificate_type,'_jen3vs _1d8rgfy3')\n",
    "auto_Scrapper_Class('p',course_rating,'cds-119 css-11uuo4b cds-121')\n",
    "auto_Scrapper_Class('p',course_difficulty,'cds-119 cds-Typography-base css-dmxkm1 cds-121', 'cds-CommonCard-metadata')\n",
    "auto_Scrapper_Class('p',course_review_counts,'cds-119 cds-Typography-base css-dmxkm1 cds-121', 'product-reviews css-pn23ng')\n",
    "auto_Scrapper_Class('p',course_skills,'cds-119 cds-Typography-base css-dmxkm1 cds-121', 'cds-CommonCard-bodyContent' )"
   ]
  },
  {
   "cell_type": "markdown",
   "id": "27a18213",
   "metadata": {
    "papermill": {
     "duration": 0.005829,
     "end_time": "2024-01-23T02:07:14.093298",
     "exception": false,
     "start_time": "2024-01-23T02:07:14.087469",
     "status": "completed"
    },
    "tags": []
   },
   "source": [
    "## Clean the scraped data"
   ]
  },
  {
   "cell_type": "code",
   "execution_count": 6,
   "id": "78e3ba87",
   "metadata": {
    "execution": {
     "iopub.execute_input": "2024-01-23T02:07:14.109939Z",
     "iopub.status.busy": "2024-01-23T02:07:14.109482Z",
     "iopub.status.idle": "2024-01-23T02:07:14.150146Z",
     "shell.execute_reply": "2024-01-23T02:07:14.148700Z"
    },
    "papermill": {
     "duration": 0.05271,
     "end_time": "2024-01-23T02:07:14.153226",
     "exception": false,
     "start_time": "2024-01-23T02:07:14.100516",
     "status": "completed"
    },
    "tags": []
   },
   "outputs": [
    {
     "data": {
      "text/html": [
       "<div>\n",
       "<style scoped>\n",
       "    .dataframe tbody tr th:only-of-type {\n",
       "        vertical-align: middle;\n",
       "    }\n",
       "\n",
       "    .dataframe tbody tr th {\n",
       "        vertical-align: top;\n",
       "    }\n",
       "\n",
       "    .dataframe thead th {\n",
       "        text-align: right;\n",
       "    }\n",
       "</style>\n",
       "<table border=\"1\" class=\"dataframe\">\n",
       "  <thead>\n",
       "    <tr style=\"text-align: right;\">\n",
       "      <th></th>\n",
       "      <th>Title</th>\n",
       "      <th>Organization</th>\n",
       "      <th>Skills</th>\n",
       "      <th>Ratings</th>\n",
       "      <th>Review counts</th>\n",
       "      <th>Metadata</th>\n",
       "    </tr>\n",
       "  </thead>\n",
       "  <tbody>\n",
       "    <tr>\n",
       "      <th>0</th>\n",
       "      <td>Google Cybersecurity</td>\n",
       "      <td>Google</td>\n",
       "      <td>Network Security, Python Programming, Linux, ...</td>\n",
       "      <td>4.8</td>\n",
       "      <td>4.8(21K reviews)</td>\n",
       "      <td>Beginner · Professional Certificate · 3 - 6 Mo...</td>\n",
       "    </tr>\n",
       "    <tr>\n",
       "      <th>1</th>\n",
       "      <td>Google Data Analytics</td>\n",
       "      <td>Google</td>\n",
       "      <td>Data Analysis, R Programming, SQL, Business C...</td>\n",
       "      <td>4.8</td>\n",
       "      <td>4.8(138K reviews)</td>\n",
       "      <td>Beginner · Professional Certificate · 3 - 6 Mo...</td>\n",
       "    </tr>\n",
       "    <tr>\n",
       "      <th>2</th>\n",
       "      <td>Google Project Management:</td>\n",
       "      <td>Google</td>\n",
       "      <td>Project Management, Strategy and Operations, ...</td>\n",
       "      <td>4.8</td>\n",
       "      <td>4.8(101K reviews)</td>\n",
       "      <td>Beginner · Professional Certificate · 3 - 6 Mo...</td>\n",
       "    </tr>\n",
       "    <tr>\n",
       "      <th>3</th>\n",
       "      <td>IBM Data Science</td>\n",
       "      <td>IBM</td>\n",
       "      <td>Python Programming, Data Science, Machine Lea...</td>\n",
       "      <td>4.6</td>\n",
       "      <td>4.6(121K reviews)</td>\n",
       "      <td>Beginner · Professional Certificate · 3 - 6 Mo...</td>\n",
       "    </tr>\n",
       "    <tr>\n",
       "      <th>4</th>\n",
       "      <td>Google Digital Marketing &amp; E-commerce</td>\n",
       "      <td>Google</td>\n",
       "      <td>Digital Marketing, Marketing, Marketing Manag...</td>\n",
       "      <td>4.8</td>\n",
       "      <td>4.8(23K reviews)</td>\n",
       "      <td>Beginner · Professional Certificate · 3 - 6 Mo...</td>\n",
       "    </tr>\n",
       "    <tr>\n",
       "      <th>...</th>\n",
       "      <td>...</td>\n",
       "      <td>...</td>\n",
       "      <td>...</td>\n",
       "      <td>...</td>\n",
       "      <td>...</td>\n",
       "      <td>...</td>\n",
       "    </tr>\n",
       "    <tr>\n",
       "      <th>583</th>\n",
       "      <td>Cryptography I</td>\n",
       "      <td>Stanford University</td>\n",
       "      <td>Algorithms, Cryptography, Mathematics, Securi...</td>\n",
       "      <td>4.8</td>\n",
       "      <td>4.8(4.2K reviews)</td>\n",
       "      <td>Mixed · Course · 1 - 3 Months</td>\n",
       "    </tr>\n",
       "    <tr>\n",
       "      <th>584</th>\n",
       "      <td>Natural Language Processing in TensorFlow</td>\n",
       "      <td>DeepLearning.AI</td>\n",
       "      <td>Machine Learning, Natural Language Processing...</td>\n",
       "      <td>4.6</td>\n",
       "      <td>4.6(6.4K reviews)</td>\n",
       "      <td>Intermediate · Course · 1 - 4 Weeks</td>\n",
       "    </tr>\n",
       "    <tr>\n",
       "      <th>585</th>\n",
       "      <td>AI Applications in Marketing and Finance</td>\n",
       "      <td>University of Pennsylvania</td>\n",
       "      <td>Business Analysis, Machine Learning, Customer...</td>\n",
       "      <td>4.7</td>\n",
       "      <td>4.7(169 reviews)</td>\n",
       "      <td>Mixed · Course · 1 - 4 Weeks</td>\n",
       "    </tr>\n",
       "    <tr>\n",
       "      <th>586</th>\n",
       "      <td>Artificial Intelligence: an Overview</td>\n",
       "      <td>Politecnico di Milano</td>\n",
       "      <td>Machine Learning, Leadership and Management, ...</td>\n",
       "      <td>4.5</td>\n",
       "      <td>4.5(207 reviews)</td>\n",
       "      <td>Beginner · Specialization · 3 - 6 Months</td>\n",
       "    </tr>\n",
       "    <tr>\n",
       "      <th>587</th>\n",
       "      <td>Learn English: Intermediate Grammar</td>\n",
       "      <td>University of California, Irvine</td>\n",
       "      <td>Writing, Communication</td>\n",
       "      <td>4.8</td>\n",
       "      <td>4.8(5.1K reviews)</td>\n",
       "      <td>Intermediate · Specialization · 3 - 6 Months</td>\n",
       "    </tr>\n",
       "  </tbody>\n",
       "</table>\n",
       "<p>588 rows × 6 columns</p>\n",
       "</div>"
      ],
      "text/plain": [
       "                                         Title  \\\n",
       "0                         Google Cybersecurity   \n",
       "1                        Google Data Analytics   \n",
       "2                   Google Project Management:   \n",
       "3                             IBM Data Science   \n",
       "4        Google Digital Marketing & E-commerce   \n",
       "..                                         ...   \n",
       "583                             Cryptography I   \n",
       "584  Natural Language Processing in TensorFlow   \n",
       "585   AI Applications in Marketing and Finance   \n",
       "586       Artificial Intelligence: an Overview   \n",
       "587        Learn English: Intermediate Grammar   \n",
       "\n",
       "                         Organization  \\\n",
       "0                              Google   \n",
       "1                              Google   \n",
       "2                              Google   \n",
       "3                                 IBM   \n",
       "4                              Google   \n",
       "..                                ...   \n",
       "583               Stanford University   \n",
       "584                   DeepLearning.AI   \n",
       "585        University of Pennsylvania   \n",
       "586             Politecnico di Milano   \n",
       "587  University of California, Irvine   \n",
       "\n",
       "                                                Skills Ratings  \\\n",
       "0     Network Security, Python Programming, Linux, ...     4.8   \n",
       "1     Data Analysis, R Programming, SQL, Business C...     4.8   \n",
       "2     Project Management, Strategy and Operations, ...     4.8   \n",
       "3     Python Programming, Data Science, Machine Lea...     4.6   \n",
       "4     Digital Marketing, Marketing, Marketing Manag...     4.8   \n",
       "..                                                 ...     ...   \n",
       "583   Algorithms, Cryptography, Mathematics, Securi...     4.8   \n",
       "584   Machine Learning, Natural Language Processing...     4.6   \n",
       "585   Business Analysis, Machine Learning, Customer...     4.7   \n",
       "586   Machine Learning, Leadership and Management, ...     4.5   \n",
       "587                             Writing, Communication     4.8   \n",
       "\n",
       "         Review counts                                           Metadata  \n",
       "0     4.8(21K reviews)  Beginner · Professional Certificate · 3 - 6 Mo...  \n",
       "1    4.8(138K reviews)  Beginner · Professional Certificate · 3 - 6 Mo...  \n",
       "2    4.8(101K reviews)  Beginner · Professional Certificate · 3 - 6 Mo...  \n",
       "3    4.6(121K reviews)  Beginner · Professional Certificate · 3 - 6 Mo...  \n",
       "4     4.8(23K reviews)  Beginner · Professional Certificate · 3 - 6 Mo...  \n",
       "..                 ...                                                ...  \n",
       "583  4.8(4.2K reviews)                      Mixed · Course · 1 - 3 Months  \n",
       "584  4.6(6.4K reviews)                Intermediate · Course · 1 - 4 Weeks  \n",
       "585   4.7(169 reviews)                       Mixed · Course · 1 - 4 Weeks  \n",
       "586   4.5(207 reviews)           Beginner · Specialization · 3 - 6 Months  \n",
       "587  4.8(5.1K reviews)       Intermediate · Specialization · 3 - 6 Months  \n",
       "\n",
       "[588 rows x 6 columns]"
      ]
     },
     "execution_count": 6,
     "metadata": {},
     "output_type": "execute_result"
    }
   ],
   "source": [
    "data = {\n",
    "    'Title': course_title,\n",
    "    'Organization': course_organization,\n",
    "    'Skills': course_skills,\n",
    "    'Ratings':course_rating,\n",
    "    'Review counts':course_review_counts,\n",
    "    'Metadata': course_difficulty    \n",
    "}\n",
    "df = pd.DataFrame(data)\n",
    "df['Skills'] = df['Skills'].str.replace(\"Skills you'll gain:\", '', regex=False)\n",
    "df"
   ]
  },
  {
   "cell_type": "code",
   "execution_count": 7,
   "id": "c896eaef",
   "metadata": {
    "execution": {
     "iopub.execute_input": "2024-01-23T02:07:14.168735Z",
     "iopub.status.busy": "2024-01-23T02:07:14.168348Z",
     "iopub.status.idle": "2024-01-23T02:07:14.174463Z",
     "shell.execute_reply": "2024-01-23T02:07:14.172734Z"
    },
    "papermill": {
     "duration": 0.016941,
     "end_time": "2024-01-23T02:07:14.177015",
     "exception": false,
     "start_time": "2024-01-23T02:07:14.160074",
     "status": "completed"
    },
    "tags": []
   },
   "outputs": [],
   "source": [
    "#df.to_csv(\"coursera_course_dataset.csv\")"
   ]
  },
  {
   "cell_type": "markdown",
   "id": "3460489e",
   "metadata": {
    "papermill": {
     "duration": 0.005918,
     "end_time": "2024-01-23T02:07:14.189395",
     "exception": false,
     "start_time": "2024-01-23T02:07:14.183477",
     "status": "completed"
    },
    "tags": []
   },
   "source": [
    "## Extras: \n",
    "#### In my case, I only want the name of skills that can be obtained from courses in Coursera"
   ]
  },
  {
   "cell_type": "code",
   "execution_count": 8,
   "id": "1354d406",
   "metadata": {
    "execution": {
     "iopub.execute_input": "2024-01-23T02:07:14.204456Z",
     "iopub.status.busy": "2024-01-23T02:07:14.203167Z",
     "iopub.status.idle": "2024-01-23T02:07:14.219474Z",
     "shell.execute_reply": "2024-01-23T02:07:14.217771Z"
    },
    "papermill": {
     "duration": 0.026814,
     "end_time": "2024-01-23T02:07:14.222228",
     "exception": false,
     "start_time": "2024-01-23T02:07:14.195414",
     "status": "completed"
    },
    "tags": []
   },
   "outputs": [
    {
     "data": {
      "text/plain": [
       "311"
      ]
     },
     "execution_count": 8,
     "metadata": {},
     "output_type": "execute_result"
    }
   ],
   "source": [
    "skills_column = df['Skills']\n",
    "\n",
    "skills_column = [str(skill) if skill is not None else '' for skill in skills_column]\n",
    "\n",
    "# Concatenate all skills into a single string\n",
    "all_skills_text = ', '.join(skills_column)\n",
    "\n",
    "# Split the string into a list of skills\n",
    "all_skills_list = [skill.strip() for skill in all_skills_text.split(',')]\n",
    "\n",
    "# Get unique skills\n",
    "distinct_skills = list(set(all_skills_list))\n",
    "\n",
    "distinct_skills_df = pd.DataFrame({'Distinct Skills': distinct_skills,'source':\"coursera\"})\n",
    "len(distinct_skills)"
   ]
  },
  {
   "cell_type": "code",
   "execution_count": 9,
   "id": "6f533295",
   "metadata": {
    "execution": {
     "iopub.execute_input": "2024-01-23T02:07:14.237848Z",
     "iopub.status.busy": "2024-01-23T02:07:14.237014Z",
     "iopub.status.idle": "2024-01-23T02:07:14.252380Z",
     "shell.execute_reply": "2024-01-23T02:07:14.250951Z"
    },
    "papermill": {
     "duration": 0.026273,
     "end_time": "2024-01-23T02:07:14.254878",
     "exception": false,
     "start_time": "2024-01-23T02:07:14.228605",
     "status": "completed"
    },
    "tags": []
   },
   "outputs": [
    {
     "data": {
      "text/html": [
       "<div>\n",
       "<style scoped>\n",
       "    .dataframe tbody tr th:only-of-type {\n",
       "        vertical-align: middle;\n",
       "    }\n",
       "\n",
       "    .dataframe tbody tr th {\n",
       "        vertical-align: top;\n",
       "    }\n",
       "\n",
       "    .dataframe thead th {\n",
       "        text-align: right;\n",
       "    }\n",
       "</style>\n",
       "<table border=\"1\" class=\"dataframe\">\n",
       "  <thead>\n",
       "    <tr style=\"text-align: right;\">\n",
       "      <th></th>\n",
       "      <th>Distinct Skills</th>\n",
       "      <th>source</th>\n",
       "    </tr>\n",
       "  </thead>\n",
       "  <tbody>\n",
       "    <tr>\n",
       "      <th>0</th>\n",
       "      <td></td>\n",
       "      <td>coursera</td>\n",
       "    </tr>\n",
       "    <tr>\n",
       "      <th>1</th>\n",
       "      <td>Statistical Programming</td>\n",
       "      <td>coursera</td>\n",
       "    </tr>\n",
       "    <tr>\n",
       "      <th>2</th>\n",
       "      <td>Software Visualization</td>\n",
       "      <td>coursera</td>\n",
       "    </tr>\n",
       "    <tr>\n",
       "      <th>3</th>\n",
       "      <td>General Accounting</td>\n",
       "      <td>coursera</td>\n",
       "    </tr>\n",
       "    <tr>\n",
       "      <th>4</th>\n",
       "      <td>Supply Chain Systems</td>\n",
       "      <td>coursera</td>\n",
       "    </tr>\n",
       "    <tr>\n",
       "      <th>...</th>\n",
       "      <td>...</td>\n",
       "      <td>...</td>\n",
       "    </tr>\n",
       "    <tr>\n",
       "      <th>306</th>\n",
       "      <td>Django (Web Framework)</td>\n",
       "      <td>coursera</td>\n",
       "    </tr>\n",
       "    <tr>\n",
       "      <th>307</th>\n",
       "      <td>Computational Thinking</td>\n",
       "      <td>coursera</td>\n",
       "    </tr>\n",
       "    <tr>\n",
       "      <th>308</th>\n",
       "      <td>Business Development</td>\n",
       "      <td>coursera</td>\n",
       "    </tr>\n",
       "    <tr>\n",
       "      <th>309</th>\n",
       "      <td>Business Research</td>\n",
       "      <td>coursera</td>\n",
       "    </tr>\n",
       "    <tr>\n",
       "      <th>310</th>\n",
       "      <td>Interactive Design</td>\n",
       "      <td>coursera</td>\n",
       "    </tr>\n",
       "  </tbody>\n",
       "</table>\n",
       "<p>311 rows × 2 columns</p>\n",
       "</div>"
      ],
      "text/plain": [
       "             Distinct Skills    source\n",
       "0                             coursera\n",
       "1    Statistical Programming  coursera\n",
       "2     Software Visualization  coursera\n",
       "3         General Accounting  coursera\n",
       "4       Supply Chain Systems  coursera\n",
       "..                       ...       ...\n",
       "306   Django (Web Framework)  coursera\n",
       "307   Computational Thinking  coursera\n",
       "308     Business Development  coursera\n",
       "309        Business Research  coursera\n",
       "310       Interactive Design  coursera\n",
       "\n",
       "[311 rows x 2 columns]"
      ]
     },
     "execution_count": 9,
     "metadata": {},
     "output_type": "execute_result"
    }
   ],
   "source": [
    "distinct_skills_df"
   ]
  },
  {
   "cell_type": "code",
   "execution_count": 10,
   "id": "7c22d1f1",
   "metadata": {
    "execution": {
     "iopub.execute_input": "2024-01-23T02:07:14.270364Z",
     "iopub.status.busy": "2024-01-23T02:07:14.269856Z",
     "iopub.status.idle": "2024-01-23T02:07:14.276138Z",
     "shell.execute_reply": "2024-01-23T02:07:14.274626Z"
    },
    "papermill": {
     "duration": 0.017108,
     "end_time": "2024-01-23T02:07:14.278687",
     "exception": false,
     "start_time": "2024-01-23T02:07:14.261579",
     "status": "completed"
    },
    "tags": []
   },
   "outputs": [],
   "source": [
    "#distinct_skills_df.to_csv(\"skills_coursera.csv\")"
   ]
  },
  {
   "cell_type": "markdown",
   "id": "2e697440",
   "metadata": {
    "papermill": {
     "duration": 0.006364,
     "end_time": "2024-01-23T02:07:14.291811",
     "exception": false,
     "start_time": "2024-01-23T02:07:14.285447",
     "status": "completed"
    },
    "tags": []
   },
   "source": [
    "### Limitation\n",
    "Unfortunately due to Coursera's website design, we can only get a max of 84 pages(around 1000 courses) with our code. However, there are actually more than 13k courses in Coursera."
   ]
  },
  {
   "cell_type": "markdown",
   "id": "38029a66",
   "metadata": {
    "papermill": {
     "duration": 0.006186,
     "end_time": "2024-01-23T02:07:14.304535",
     "exception": false,
     "start_time": "2024-01-23T02:07:14.298349",
     "status": "completed"
    },
    "tags": []
   },
   "source": [
    "Feel free to improve the code <br />\n",
    "Thank you!"
   ]
  }
 ],
 "metadata": {
  "kaggle": {
   "accelerator": "none",
   "dataSources": [],
   "dockerImageVersionId": 30635,
   "isGpuEnabled": false,
   "isInternetEnabled": true,
   "language": "python",
   "sourceType": "notebook"
  },
  "kernelspec": {
   "display_name": "Python 3",
   "language": "python",
   "name": "python3"
  },
  "language_info": {
   "codemirror_mode": {
    "name": "ipython",
    "version": 3
   },
   "file_extension": ".py",
   "mimetype": "text/x-python",
   "name": "python",
   "nbconvert_exporter": "python",
   "pygments_lexer": "ipython3",
   "version": "3.10.12"
  },
  "papermill": {
   "default_parameters": {},
   "duration": 327.495427,
   "end_time": "2024-01-23T02:07:14.834078",
   "environment_variables": {},
   "exception": null,
   "input_path": "__notebook__.ipynb",
   "output_path": "__notebook__.ipynb",
   "parameters": {},
   "start_time": "2024-01-23T02:01:47.338651",
   "version": "2.4.0"
  }
 },
 "nbformat": 4,
 "nbformat_minor": 5
}
